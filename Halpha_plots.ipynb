{
 "cells": [
  {
   "cell_type": "code",
   "execution_count": 2,
   "metadata": {},
   "outputs": [],
   "source": [
    "from __future__ import division, print_function\n",
    "import sys, os\n",
    "import numpy as np\n",
    "import matplotlib.pyplot as plt\n",
    "%matplotlib inline\n",
    "import astropy.io.ascii as at\n",
    "import astropy.io.fits as fits\n",
    "import astropy.table as table\n",
    "from astropy.table import Table\n",
    "from astropy.coordinates import SkyCoord\n",
    "import astropy.units as u\n",
    "import matplotlib.ticker\n",
    "import matplotlib.cm as cm\n",
    "import matplotlib.colors as colors\n",
    "from matplotlib.font_manager import FontProperties\n",
    "import palettable\n",
    "\n",
    "import K2fov.projection as proj\n",
    "import K2fov.fov as fov\n",
    "from K2fov.K2onSilicon import angSepVincenty,getRaDecRollFromFieldnum\n",
    "\n",
    "import PHEW\n",
    "from hypra.utils import cat_match, cat_io, k2utils\n",
    "# from hypra.plot import color_mag\n",
    "import convertmass"
   ]
  },
  {
   "cell_type": "markdown",
   "metadata": {},
   "source": [
    "before this notebook, run\n",
    "- fix_spectra.py\n",
    "- fit_halpha.py\n",
    "- halpha_add_idx.py"
   ]
  },
  {
   "cell_type": "code",
   "execution_count": 3,
   "metadata": {
    "scrolled": true
   },
   "outputs": [
    {
     "name": "stdout",
     "output_type": "stream",
     "text": [
      "(numpy.record, [('RA', '>f8'), ('DEC', '>f8'), ('ASAS_ID', 'S13'), ('HIP_ID', 'S9'), ('KUNDERT_MATCH', '>f4'), ('KUNDERT_RA', '>f4'), ('KUNDERT_DEC', '>f4'), ('KUNDERT_PROT', '>f4'), ('KUNDERT_OBS', '>f4'), ('KUNDERT_SPT', 'S5'), ('ROESER_MATCH', '>i4'), ('ROESER_PMRA', '>f4'), ('ROESER_PMRA_ERR', '>f4'), ('ROESER_PMDEC', '>f4'), ('ROESER_PMDEC_ERR', '>f4'), ('ROESER_PARALLAX', '>f4'), ('ROESER_PARALLAX_ERR', '>f4'), ('ROESER_DISTANCE', '>f4'), ('ROESER_RV', '>f4'), ('ROESER_VPAR', '>f4'), ('ROESER_VPAR_ERR', '>f4'), ('ROESER_VPER', '>f4'), ('ROESER_VPER_ERR', '>f4'), ('ROESER_MASS', '>f4'), ('TWOMASSNAME', 'S16'), ('TWOMASS_RA', '>f8'), ('TWOMASS_DEC', '>f8'), ('TWOMASS_J', '>f4'), ('TWOMASS_JERR', '>f4'), ('TWOMASS_H', '>f4'), ('TWOMASS_HERR', '>f4'), ('TWOMASS_K', '>f4'), ('TWOMASS_KERR', '>f4'), ('TWOMASS_FLAG', 'S3'), ('TWOMASS_PHOT_FLAG', 'S5'), ('TWOMASS_SEP_OPT', '>f4'), ('TWOMASS_B', '>f4'), ('TWOMASS_VR', '>f4'), ('DELORME_MATCH', '>i4'), ('SWASP_ID', 'S25'), ('USNO_ID', 'S12'), ('DELORME_RA', '>f8'), ('DELORME_DEC', '>f8'), ('DELORME_XRAY', '>i4'), ('DELORME_V', '>f4'), ('DELORME_PREV_SPT', 'S4'), ('DELORME_PMEM', '>f4'), ('DELORME_LITP', '>f4'), ('DELORME_DELTACORE', '>f4'), ('DELORME_PARALLAX', '>f4'), ('DELORME_DISTANCE', '>f4'), ('ANYPERIOD', '>i4'), ('UCAC_MATCH', '>i4'), ('UCAC_RA', '>f8'), ('UCAC_DEC', '>f8'), ('UCAC_ID', 'S10'), ('UCAC_FLAG', '>i4'), ('UCAC_DBLSTAR', '>i4'), ('UCAC_PMRA', '>f4'), ('UCAC_PMDEC', '>f4'), ('UCAC_J', '>f4'), ('UCAC_JERR', '>f4'), ('UCAC_H', '>f4'), ('UCAC_HERR', '>f4'), ('UCAC_K', '>f4'), ('UCAC_KERR', '>f4'), ('UCAC_B', '>f4'), ('UCAC_BERR', '>f4'), ('UCAC_V', '>f4'), ('UCAC_VERR', '>f4'), ('UCAC_G', '>f4'), ('UCAC_GERR', '>f4'), ('UCAC_R', '>f4'), ('UCAC_RERR', '>f4'), ('UCAC_I', '>f4'), ('UCAC_IERR', '>f4'), ('SDSS_MATCH', '>i4'), ('SDSS_RA', '>f8'), ('SDSS_DEC', '>f8'), ('SDSS_Q', '>i4'), ('SDSS_U', '>f4'), ('SDSS_UERR', '>f4'), ('SDSS_G', '>f4'), ('SDSS_GERR', '>f4'), ('SDSS_R', '>f4'), ('SDSS_RERR', '>f4'), ('SDSS_I', '>f4'), ('SDSS_IERR', '>f4'), ('SDSS_Z', '>f4'), ('SDSS_ZERR', '>f4'), ('MDM_SPECMATCH', '>i4'), ('MDM_SPEC_FILE', 'S75'), ('MDM_SPEC_FILE2', 'S75'), ('MDM_SPEC_RA', '>f8'), ('MDM_SPEC_DEC', '>f8'), ('MDM_SPEC_ADAMSPT', 'S2'), ('MDM_SPEC_SPT', 'S2'), ('HIP_PARALLAX', '>f4'), ('HIP_PAR_ERR', '>f4'), ('HIP_DISTANCE', '>f4'), ('HIP_DMOD', '>f4'), ('RMAG', '>f4'), ('RMAG_ERR', '>f4'), ('RMAG_FLAG', 'S1'), ('KH_MASS', '>f4'), ('RPRIME', '>f4'), ('RPRIME_ERR', '>f4'), ('RPRIME_K', '>f4'), ('RPRIME_K_ERR', '>f4'), ('BINARY', '>f4'), ('MDM_EQW', '>f4'), ('MDM_EQW_ERR', '>f4'), ('MDM_LHALBOL', '>f4'), ('MDM_LLERR', '>f4'), ('MDM2_EQW', '>f4'), ('MDM2_EQW_ERR', '>f4'), ('MDM2_LHALBOL', '>f4'), ('MDM2_LLERR', '>f4'), ('CHI', '>f4'), ('CHI_ERR', '>f4'), ('AVG_EQW', '>f4'), ('AVG_EQW_ERR', '>f4'), ('AVG_LHA', '>f4'), ('AVG_LHA_ERR', '>f4'), ('ROESER_PMEM', '>f4'), ('ROSSBY', '>f4'), ('PERIOD', '>f4'), ('PERIOD_FLAG', 'S1'), ('GOLDMAN_MATCH', '>i2'), ('GOLDMAN_SEQ', '>i2'), ('GOLDMAN_RAJ2000', '>f8'), ('GOLDMAN_DEJ2000', '>f8'), ('GOLDMAN_PMRA', '>f8'), ('GOLDMAN_E_PMRA', '>f8'), ('GOLDMAN_PMDE', '>f8'), ('GOLDMAN_E_PMDE', '>f8'), ('GOLDMAN_PLX', '>f8'), ('GOLDMAN_E_PLX', '>f8'), ('GOLDMAN_RC', '>f8'), ('GOLDMAN_RV', '>f8'), ('GOLDMAN_VPAR', '>f8'), ('GOLDMAN_VPERP', '>f8'), ('GOLDMAN_M', '>f8'), ('GOLDMAN_GMED', '>f8'), ('GOLDMAN_E_GMED', '>f8'), ('GOLDMAN_RMED', '>f8'), ('GOLDMAN_E_RMED', '>f8'), ('GOLDMAN_IMED', '>f8'), ('GOLDMAN_E_IMED', '>f8'), ('GOLDMAN_ZMED', '>f8'), ('GOLDMAN_E_ZMED', '>f8'), ('GOLDMAN_YMED', '>f8'), ('GOLDMAN_GMAG', '>f8'), ('GOLDMAN_E_GMAG', '>f8'), ('GOLDMAN_RMAG', '>f8'), ('GOLDMAN_E_RMAG', '>f8'), ('GOLDMAN_IMAG', '>f8'), ('GOLDMAN_E_IMAG', '>f8'), ('GOLDMAN_ZMAG', '>f8'), ('GOLDMAN_E_ZMAG', '>f8'), ('GOLDMAN_JMAG', '>f8'), ('GOLDMAN_E_JMAG', '>f8'), ('GOLDMAN_HMAG', '>f8'), ('GOLDMAN_E_HMAG', '>f8'), ('GOLDMAN_KMAG', '>f8'), ('GOLDMAN_E_KMAG', '>f8'), ('GOLDMAN_W1MAG', '>f8'), ('GOLDMAN_E_W1MAG', '>f8'), ('GOLDMAN_W2MAG', '>f8'), ('GOLDMAN_E_W2MAG', '>f8'), ('GOLDMAN_W3MAG', '>f8'), ('GOLDMAN_E_W3MAG', '>f8'), ('GOLDMAN_W4MAG', '>f8'), ('GOLDMAN_E_W4MAG', '>f8'), ('GOLDMAN_SRC', '>i2'), ('DISTANCE', '>f8'), ('DISTANCE_ERR', '>f8'), ('DISTANCE_FLAG', 'S1'), ('PROSSER_PERIOD', '>f4'), ('HARTMAN_PERIOD', '>f4'), ('K2_TARGET', '>i2'), ('K2FOV_FLAG13', '>i2'), ('EPIC_ID', '>i4'), ('PMEM', '>f4'), ('K2_PERIOD', '>f4')])\n"
     ]
    }
   ],
   "source": [
    "pdat,pobs,pobsnr,pobsr = cat_io.get_data(\"P\")\n",
    "hdat,hobs,hobsnr,hobsr = cat_io.get_data(\"H\")\n",
    "print(hdat.dtype)\n",
    "hpos = SkyCoord(hdat[\"RA\"],hdat[\"DEC\"],unit=u.degree)"
   ]
  },
  {
   "cell_type": "code",
   "execution_count": 4,
   "metadata": {},
   "outputs": [
    {
     "name": "stdout",
     "output_type": "stream",
     "text": [
      "[('K2 ID', '<i8'), ('Dataset Name', '<U17'), ('Campaign', '<i8'), ('Object type', '<U14'), ('RA (J2000)', '<U12'), ('Dec (J2000)', '<U12'), ('Target Type', '<U2'), ('Ref', '<i8'), ('Actual Start Time', '<U19'), ('Actual End Time', '<U19'), ('Investigation ID', '<U103'), ('R Mag', '<f8'), ('R Mag Err', '<f8'), ('J Mag', '<f8'), ('J Mag Err', '<f8'), ('KEP Mag', '<f8'), ('Kep Flag', '<U3'), ('Hip ID', '<i8'), ('Tyc ID', '<U11'), ('SDSS ID', '<U20'), ('UCAC ID', '<U10'), ('2MASS ID', '<U16'), ('2MASS Flag', '<U19'), ('Module', '<i8'), ('Output', '<i8'), ('Channel', '<i8'), ('High-Level Science Products', '<i8')]\n"
     ]
    }
   ],
   "source": [
    "# Match EPIC IDs\n",
    "epic_list = at.read(\"mast_search_13064.csv\",data_start=2)\n",
    "print(epic_list.dtype)\n",
    "mpos = SkyCoord(epic_list[\"RA (J2000)\"], epic_list[\"Dec (J2000)\"],\n",
    "               unit=(u.hourangle,u.degree))"
   ]
  },
  {
   "cell_type": "code",
   "execution_count": 5,
   "metadata": {},
   "outputs": [
    {
     "name": "stdout",
     "output_type": "stream",
     "text": [
      "786 786 132\n",
      "132 132 132\n"
     ]
    }
   ],
   "source": [
    "idx, sep, _ = hpos.match_to_catalog_sky(mpos)\n",
    "print(len(idx),len(hpos),len(mpos))\n",
    "\n",
    "good_match = np.where(sep<(5*u.arcsec))[0]\n",
    "good_idx = idx[good_match]\n",
    "print(len(good_match),len(good_idx),len(np.unique(good_idx)))\n",
    "\n",
    "# old_match = np.where((sep<(5*u.arcsec)) & (hdat[\"EPIC_ID\"]>0))[0]\n",
    "# old_idx = idx[old_match]\n",
    "# print(hdat[\"EPIC_ID\"][old_match])\n",
    "# print(epic_list[\"K2 ID\"][old_idx])\n",
    "\n",
    "# print(hdat[\"EPIC_ID\"][good_match])\n",
    "# print(epic_list[\"K2 ID\"][good_idx])\n",
    "\n",
    "hdat[\"EPIC_ID\"][good_match] = epic_list[\"K2 ID\"][good_idx]"
   ]
  },
  {
   "cell_type": "code",
   "execution_count": 6,
   "metadata": {},
   "outputs": [
    {
     "name": "stdout",
     "output_type": "stream",
     "text": [
      "132\n",
      "337 129\n",
      "[('EPIC', '<i8'), ('period', '<f8'), ('power', '<f8'), ('threshold', '<f8')]\n"
     ]
    }
   ],
   "source": [
    "# ORIGINAL SAMPLE\n",
    "period_file_base = \"c13_tables/c13_k2sc_output_2018-05-29_\"\n",
    "\n",
    "for i in range(4):\n",
    "    #print(i+1)\n",
    "    period_file = \"{0}{1}.csv\".format(period_file_base,i+1)\n",
    "    new_res = at.read(period_file)\n",
    "    \n",
    "    peak_file = \"{0}{1}_allpeaks.csv\".format(period_file_base,i+1)\n",
    "    new_peaks = at.read(peak_file)\n",
    "    if i==0:\n",
    "        res1 = new_res\n",
    "        peaks1 = new_peaks\n",
    "    else:\n",
    "        res1 = table.vstack([res1,new_res])\n",
    "        peaks1 = table.vstack([peaks1,new_peaks])\n",
    "                \n",
    "res = res1 #table.vstack([res1,res2])\n",
    "peaks = peaks1 #table.vstack([peaks1,peaks2])\n",
    "        \n",
    "        \n",
    "print(len(res))\n",
    "print(len(peaks),len(np.unique(peaks[\"EPIC\"])))\n",
    "print(peaks.dtype)"
   ]
  },
  {
   "cell_type": "code",
   "execution_count": 7,
   "metadata": {},
   "outputs": [
    {
     "name": "stdout",
     "output_type": "stream",
     "text": [
      "[('EPIC', '<i8'), ('fund_period', '<f8'), ('fund_power', '<f8'), ('sig_period', '<f8'), ('sig_power', '<f8'), ('sec_period', '<f8'), ('sec_power', '<f8'), ('num_sig', '<i8'), ('harm_type', '<U10'), ('threshold', '<f8'), ('SpotEvol', '<U1'), ('MultiProt', '<U1'), ('Q', '<i8'), ('Q2', '<f8'), ('Q3', '<f8'), ('Notes', '<U120'), ('junk', '<i8')]\n",
      "132\n"
     ]
    }
   ],
   "source": [
    "# Ensure that this is still sorted by EPIC!\n",
    "# The date is different because Tiffany put the date she finished inspecting\n",
    "comments = at.read(\"c13_tables/c13_k2sc_output_2018-06-22_comments.csv\",delimiter=\",\")\n",
    "print(comments.dtype)\n",
    "print(len(comments))"
   ]
  },
  {
   "cell_type": "code",
   "execution_count": 8,
   "metadata": {},
   "outputs": [
    {
     "name": "stdout",
     "output_type": "stream",
     "text": [
      "[]\n"
     ]
    }
   ],
   "source": [
    "print(np.where(comments[\"Q\"]==-1)[0])"
   ]
  },
  {
   "cell_type": "code",
   "execution_count": 9,
   "metadata": {},
   "outputs": [
    {
     "name": "stdout",
     "output_type": "stream",
     "text": [
      "[]\n"
     ]
    }
   ],
   "source": [
    "res.sort(\"EPIC\")\n",
    "comments.sort(\"EPIC\")\n",
    "epic_diff = res[\"EPIC\"] - comments[\"EPIC\"]\n",
    "print(np.where(epic_diff<0)[0])"
   ]
  },
  {
   "cell_type": "code",
   "execution_count": 10,
   "metadata": {},
   "outputs": [
    {
     "name": "stdout",
     "output_type": "stream",
     "text": [
      "[('EPIC', '<i8'), ('fund_period', '<f8'), ('fund_power', '<f8'), ('sig_period', '<f8'), ('sig_power', '<f8'), ('sec_period', '<f8'), ('sec_power', '<f8'), ('num_sig', '<i8'), ('harm_type', '<U10'), ('threshold', '<f8')]\n"
     ]
    }
   ],
   "source": [
    "print(res.dtype)\n",
    "k2_periods = res[\"sig_period\"]\n",
    "k2_power = res[\"sig_power\"]\n",
    "k2_epic = res[\"EPIC\"]\n",
    "k2_flag = res[\"num_sig\"]\n",
    "#k2_kpmag = res[\"magnitude\"]\n",
    "k2_harm = res[\"harm_type\"]\n",
    "k2_threshold = res[\"threshold\"]\n",
    "k2_quality = comments[\"Q\"]\n",
    "k2_spot = comments[\"SpotEvol\"]\n",
    "k2_multi = comments[\"MultiProt\"]\n",
    "k2_comment = comments[\"Notes\"]\n",
    "# k2_blend = comments[\"Blended\"]"
   ]
  },
  {
   "cell_type": "code",
   "execution_count": 11,
   "metadata": {},
   "outputs": [
    {
     "name": "stdout",
     "output_type": "stream",
     "text": [
      "[('EPIC', '<i8'), ('period', '<f8'), ('power', '<f8'), ('threshold', '<f8')]\n"
     ]
    }
   ],
   "source": [
    "print(peaks.dtype)"
   ]
  },
  {
   "cell_type": "code",
   "execution_count": 12,
   "metadata": {},
   "outputs": [],
   "source": [
    "pperiods = np.copy(hdat['PERIOD'])\n",
    "pperiods_secondary = np.zeros(len(hdat))\n",
    "powers_secondary = np.zeros(len(hdat))\n",
    "quality_secondary = np.zeros(len(hdat),int)\n",
    "pflag = np.copy(hdat['PERIOD_FLAG'])\n",
    "pmass = hdat['KH_MASS']\n",
    "pqual = np.zeros(len(hdat),int)\n",
    "pbad = np.zeros(len(hdat),int)\n",
    "ppower = np.zeros(len(hdat))\n",
    "pthreshold = np.zeros(len(hdat))\n",
    "pharm = np.empty(len(hdat),\"S12\")\n",
    "pharm[:] = \"\"\n",
    "# pblend = np.zeros(len(hdat),int)\n",
    "\n",
    "bad_count = 0\n",
    "replace_count = 0"
   ]
  },
  {
   "cell_type": "code",
   "execution_count": 13,
   "metadata": {
    "scrolled": true
   },
   "outputs": [
    {
     "name": "stdout",
     "output_type": "stream",
     "text": [
      "114 [30]    EPIC  \n",
      "---------\n",
      "210899260 210899260\n",
      "118 [10]    EPIC  \n",
      "---------\n",
      "210666330 210666330\n",
      "124 [99]    EPIC  \n",
      "---------\n",
      "247363759 247363759\n",
      "129 [47]    EPIC  \n",
      "---------\n",
      "246794704 246794704\n",
      "138 [57]    EPIC  \n",
      "---------\n",
      "246875518 246875518\n",
      "140 [123]    EPIC  \n",
      "---------\n",
      "247857331 247857331\n",
      "141 [9]    EPIC  \n",
      "---------\n",
      "210652965 210652965\n",
      "143 [71]    EPIC  \n",
      "---------\n",
      "247002634 247002634\n",
      "157 [80]    EPIC  \n",
      "---------\n",
      "247134293 247134293\n",
      "159 [1]    EPIC  \n",
      "---------\n",
      "210551925 210551925\n",
      "165 [129]    EPIC  \n",
      "---------\n",
      "248045685 248045685\n",
      "166 [112]    EPIC  \n",
      "---------\n",
      "247611242 247611242\n",
      "167 [100]    EPIC  \n",
      "---------\n",
      "247369717 247369717\n",
      "169 [56]    EPIC  \n",
      "---------\n",
      "246865157 246865157\n",
      "170 [3]    EPIC  \n",
      "---------\n",
      "210554781 210554781\n",
      "177 [45]    EPIC  \n",
      "---------\n",
      "246777832 246777832\n",
      "187 [63]    EPIC  \n",
      "---------\n",
      "246931087 246931087\n",
      "188 [41]    EPIC  \n",
      "---------\n",
      "246732310 246732310\n",
      "190 [8]    EPIC  \n",
      "---------\n",
      "210651981 210651981\n",
      "191 [48]    EPIC  \n",
      "---------\n",
      "246806983 246806983\n",
      "192 [54]    EPIC  \n",
      "---------\n",
      "246862801 246862801\n",
      "195 [17]    EPIC  \n",
      "---------\n",
      "210741091 210741091\n",
      "206 [40]    EPIC  \n",
      "---------\n",
      "246714118 246714118\n",
      "385 [31]    EPIC  \n",
      "---------\n",
      "210923016 210923016\n",
      "388 [29]    EPIC  \n",
      "---------\n",
      "210899231 210899231\n",
      "394 [22]    EPIC  \n",
      "---------\n",
      "210828490 210828490\n",
      "401 [25]    EPIC  \n",
      "---------\n",
      "210846111 210846111\n",
      "405 [27]    EPIC  \n",
      "---------\n",
      "210878579 210878579\n",
      "410 [14]    EPIC  \n",
      "---------\n",
      "210718930 210718930\n",
      "411 [33]    EPIC  \n",
      "---------\n",
      "210949810 210949810\n",
      "413 [32]    EPIC  \n",
      "---------\n",
      "210945848 210945848\n",
      "418 [20]    EPIC  \n",
      "---------\n",
      "210754620 210754620\n",
      "420 [18]    EPIC  \n",
      "---------\n",
      "210742017 210742017\n",
      "431 [11]    EPIC  \n",
      "---------\n",
      "210667985 210667985\n",
      "433 [19]    EPIC  \n",
      "---------\n",
      "210743724 210743724\n",
      "434 [7]    EPIC  \n",
      "---------\n",
      "210640966 210640966\n",
      "440 [12]    EPIC  \n",
      "---------\n",
      "210674207 210674207\n",
      "441 [28]    EPIC  \n",
      "---------\n",
      "210889984 210889984\n",
      "442 [116]    EPIC  \n",
      "---------\n",
      "247755982 247755982\n",
      "446 [21]    EPIC  \n",
      "---------\n",
      "210772187 210772187\n",
      "447 [2]    EPIC  \n",
      "---------\n",
      "210552148 210552148\n",
      "450 [13]    EPIC  \n",
      "---------\n",
      "210709514 210709514\n",
      "451 [16]    EPIC  \n",
      "---------\n",
      "210726910 210726910\n",
      "452 [120]    EPIC  \n",
      "---------\n",
      "247799152 247799152\n",
      "453 [5]    EPIC  \n",
      "---------\n",
      "210566619 210566619\n",
      "455 [4]    EPIC  \n",
      "---------\n",
      "210558541 210558541\n",
      "456 [15]    EPIC  \n",
      "---------\n",
      "210721261 210721261\n",
      "459 [0]    EPIC  \n",
      "---------\n",
      "210491860 210491860\n",
      "463 [108]    EPIC  \n",
      "---------\n",
      "247589423 247589423\n",
      "464 [6]    EPIC  \n",
      "---------\n",
      "210596446 210596446\n",
      "465 [105]    EPIC  \n",
      "---------\n",
      "247523445 247523445\n",
      "469 [109]    EPIC  \n",
      "---------\n",
      "247592661 247592661\n",
      "470 [39]    EPIC  \n",
      "---------\n",
      "246707008 246707008\n",
      "471 [106]    EPIC  \n",
      "---------\n",
      "247556609 247556609\n",
      "473 [124]    EPIC  \n",
      "---------\n",
      "247862511 247862511\n",
      "475 [55]    EPIC  \n",
      "---------\n",
      "246863569 246863569\n",
      "484 [73]    EPIC  \n",
      "---------\n",
      "247019334 247019334\n",
      "486 [81]    EPIC  \n",
      "---------\n",
      "247139505 247139505\n",
      "488 [126]    EPIC  \n",
      "---------\n",
      "247899959 247899959\n",
      "494 [60]    EPIC  \n",
      "---------\n",
      "246900928 246900928\n",
      "495 [78]    EPIC  \n",
      "---------\n",
      "247110096 247110096\n",
      "496 [75]    EPIC  \n",
      "---------\n",
      "247069684 247069684\n",
      "497 [61]    EPIC  \n",
      "---------\n",
      "246911984 246911984\n",
      "499 [50]    EPIC  \n",
      "---------\n",
      "246808055 246808055\n",
      "501 [43]    EPIC  \n",
      "---------\n",
      "246752527 246752527\n",
      "502 [92]    EPIC  \n",
      "---------\n",
      "247282522 247282522\n",
      "504 [125]    EPIC  \n",
      "---------\n",
      "247864824 247864824\n",
      "506 [110]    EPIC  \n",
      "---------\n",
      "247603230 247603230\n",
      "508 [44]    EPIC  \n",
      "---------\n",
      "246768912 246768912\n",
      "510 [89]    EPIC  \n",
      "---------\n",
      "247218216 247218216\n",
      "511 [58]    EPIC  \n",
      "---------\n",
      "246878254 246878254\n",
      "512 [79]    EPIC  \n",
      "---------\n",
      "247122957 247122957\n",
      "513 [82]    EPIC  \n",
      "---------\n",
      "247144105 247144105\n",
      "514 [111]    EPIC  \n",
      "---------\n",
      "247610046 247610046\n",
      "515 [77]    EPIC  \n",
      "---------\n",
      "247094343 247094343\n",
      "517 [121]    EPIC  \n",
      "---------\n",
      "247813004 247813004\n",
      "519 [97]    EPIC  \n",
      "---------\n",
      "247318877 247318877\n",
      "522 [86]    EPIC  \n",
      "---------\n",
      "247171832 247171832\n",
      "527 [49]    EPIC  \n",
      "---------\n",
      "246807491 246807491\n",
      "528 [67]    EPIC  \n",
      "---------\n",
      "246981320 246981320\n",
      "529 [103]    EPIC  \n",
      "---------\n",
      "247441866 247441866\n",
      "530 [83]    EPIC  \n",
      "---------\n",
      "247153621 247153621\n",
      "538 [128]    EPIC  \n",
      "---------\n",
      "247970815 247970815\n",
      "539 [84]    EPIC  \n",
      "---------\n",
      "247164626 247164626\n",
      "541 [74]    EPIC  \n",
      "---------\n",
      "247032724 247032724\n",
      "545 [90]    EPIC  \n",
      "---------\n",
      "247230044 247230044\n",
      "551 [70]    EPIC  \n",
      "---------\n",
      "246996958 246996958\n",
      "552 [87]    EPIC  \n",
      "---------\n",
      "247185579 247185579\n",
      "553 [114]    EPIC  \n",
      "---------\n",
      "247649755 247649755\n",
      "554 [95]    EPIC  \n",
      "---------\n",
      "247306074 247306074\n",
      "557 [117]    EPIC  \n",
      "---------\n",
      "247783757 247783757\n",
      "559 [72]    EPIC  \n",
      "---------\n",
      "247013709 247013709\n",
      "560 [66]    EPIC  \n",
      "---------\n",
      "246971978 246971978\n",
      "561 [76]    EPIC  \n",
      "---------\n",
      "247072635 247072635\n",
      "562 [64]    EPIC  \n",
      "---------\n",
      "246953721 246953721\n",
      "563 [35]    EPIC  \n",
      "---------\n",
      "246625561 246625561\n",
      "564 [59]    EPIC  \n",
      "---------\n",
      "246884081 246884081\n",
      "569 [69]    EPIC  \n",
      "---------\n",
      "246990037 246990037\n",
      "574 [98]    EPIC  \n",
      "---------\n",
      "247337843 247337843\n",
      "575 [115]    EPIC  \n",
      "---------\n",
      "247744104 247744104\n",
      "577 [34]    EPIC  \n",
      "---------\n",
      "246624367 246624367\n",
      "578 [107]    EPIC  \n",
      "---------\n",
      "247560983 247560983\n",
      "584 [127]    EPIC  \n",
      "---------\n",
      "247969085 247969085\n",
      "586 [93]    EPIC  \n",
      "---------\n",
      "247288261 247288261\n",
      "589 [46]    EPIC  \n",
      "---------\n",
      "246787471 246787471\n",
      "590 [36]    EPIC  \n",
      "---------\n",
      "246642267 246642267\n",
      "593 [104]    EPIC  \n",
      "---------\n",
      "247444723 247444723\n",
      "594 [62]    EPIC  \n",
      "---------\n",
      "246928683 246928683\n",
      "595 [130]    EPIC  \n",
      "---------\n",
      "248170923 248170923\n",
      "596 [96]    EPIC  \n",
      "---------\n",
      "247308468 247308468\n",
      "600 [37]    EPIC  \n",
      "---------\n",
      "246677610 246677610\n",
      "601 [65]    EPIC  \n",
      "---------\n",
      "246953884 246953884\n",
      "609 [102]    EPIC  \n",
      "---------\n",
      "247395996 247395996\n",
      "610 [131]    EPIC  \n",
      "---------\n",
      "248199652 248199652\n",
      "611 [101]    EPIC  \n",
      "---------\n",
      "247381505 247381505\n",
      "612 [118]    EPIC  \n",
      "---------\n",
      "247793419 247793419\n",
      "619 [38]    EPIC  \n",
      "---------\n",
      "246690477 246690477\n",
      "622 [85]    EPIC  \n",
      "---------\n",
      "247167923 247167923\n",
      "624 [53]    EPIC  \n",
      "---------\n",
      "246846196 246846196\n",
      "630 [51]    EPIC  \n",
      "---------\n",
      "246816464 246816464\n",
      "634 [52]    EPIC  \n",
      "---------\n",
      "246838465 246838465\n",
      "660 [68]    EPIC  \n",
      "---------\n",
      "246984590 246984590\n",
      "665 [94]    EPIC  \n",
      "---------\n",
      "247297768 247297768\n",
      "735 [26]    EPIC  \n",
      "---------\n",
      "210871016 210871016\n",
      "742 [88]    EPIC  \n",
      "---------\n",
      "247199130 247199130\n",
      "745 [113]    EPIC  \n",
      "---------\n",
      "247641327 247641327\n",
      "749 [24]    EPIC  \n",
      "---------\n",
      "210835057 210835057\n",
      "750 [91]    EPIC  \n",
      "---------\n",
      "247254123 247254123\n",
      "758 [42]    EPIC  \n",
      "---------\n",
      "246735080 246735080\n",
      "759 [119]    EPIC  \n",
      "---------\n",
      "247796367 247796367\n",
      "763 [23]    EPIC  \n",
      "---------\n",
      "210834592 210834592\n",
      "767 [122]    EPIC  \n",
      "---------\n",
      "247829435 247829435\n",
      "7 with secondary periods\n"
     ]
    }
   ],
   "source": [
    "potential_new = np.where((hdat[\"EPIC_ID\"]>0) & \n",
    "                         (hdat[\"KH_MASS\"]<1.5) & (hdat[\"KH_MASS\"]>0)\n",
    "                           )[0]\n",
    "\n",
    "pperiods_allk2 = np.copy(pperiods)\n",
    "pperiods_onlyk2 = np.ones_like(pperiods)*-9999.0\n",
    "\n",
    "# peak separation threshold to be considered a binary\n",
    "min_dpp = 0.2\n",
    "\n",
    "\n",
    "# Match targets from our catalog to the EPIC results\n",
    "for i in potential_new:\n",
    "    \n",
    "    cat_epic = hdat[\"EPIC_ID\"][i]\n",
    "    k2_loc = np.where(k2_epic==cat_epic)[0]\n",
    "    if len(k2_loc)>=1:\n",
    "        print(i, k2_loc, k2_epic[k2_loc], hdat[\"EPIC_ID\"][i])\n",
    "        \n",
    "        k2_loc = k2_loc[0]\n",
    "        if k2_quality[k2_loc]==-1:\n",
    "            # Indicates a duplicated EPIC in the list, there are four because I ran two MAST searches\n",
    "            print(i, k2_loc, k2_epic[k2_loc], hdat[\"EPIC_ID\"][i])\n",
    "            continue\n",
    "        elif (k2_quality[k2_loc]==2) and (k2_periods[k2_loc]<0):\n",
    "            # Indicates that no period was detected by the lomb-scargle periodogram\n",
    "            bad_count += 1\n",
    "            pqual[i] = 3\n",
    "            continue\n",
    "    \n",
    "        # By default, use the highest significant peak in the light curve\n",
    "        use_period = k2_periods[k2_loc]\n",
    "        use_power = k2_power[k2_loc]\n",
    "        pqual[i] = comments[\"Q\"][k2_loc]\n",
    "#         print(c5_loc, c5_comment[c5_loc])\n",
    "\n",
    "        # If I've flagged that peak as bad, then check my flag for the second highest peak\n",
    "        # If the second period is good or OK, use that one\n",
    "        if comments[\"Q\"][k2_loc]==2:\n",
    "            if comments[\"Q2\"][k2_loc] in [0,1]:\n",
    "                use_period = res[\"sec_period\"][k2_loc]\n",
    "                use_power = res[\"sec_power\"][k2_loc]\n",
    "                pqual[i] = comments[\"Q2\"][k2_loc]\n",
    "                replace_count += 1\n",
    "\n",
    "        # If the first peak is good or OK, then check to see if the second or third peak \n",
    "        #  is really a second period\n",
    "        # AND (new criterion) the peaks must be separated by a certain fraction of the dominant peak\n",
    "        else:            \n",
    "            if comments[\"Q2\"][k2_loc] in [0,1]:\n",
    "                \n",
    "                delta_pp = abs(res[\"sec_period\"][k2_loc] - use_period)/use_period\n",
    "                \n",
    "                if delta_pp > min_dpp:\n",
    "                    pperiods_secondary[i] = res[\"sec_period\"][k2_loc]\n",
    "                    powers_secondary[i] = res[\"sec_power\"][k2_loc]\n",
    "                    quality_secondary[i] = comments[\"Q2\"][k2_loc]\n",
    "                \n",
    "            # I only saved the first and second periods/powers in my main table,\n",
    "            # so have to dig into the table of all significant peaks to pull out\n",
    "            # the third period/power\n",
    "            elif comments[\"Q3\"][k2_loc] in [0,1]:\n",
    "                epic_peaks = np.where(cat_epic==peaks[\"EPIC\"])[0]\n",
    "                sorted_heights = np.argsort(peaks[\"power\"][epic_peaks])\n",
    "                sorted_periods = peaks[\"period\"][epic_peaks][sorted_heights]\n",
    "                sorted_powers = peaks[\"power\"][epic_peaks][sorted_heights]\n",
    "\n",
    "                delta_pp = abs(sorted_periods[2] - use_period)/use_period\n",
    "                \n",
    "                if delta_pp > min_dpp:\n",
    "                    pperiods_secondary[i] = sorted_periods[2]\n",
    "                    powers_secondary[i] = sorted_powers[2]\n",
    "                    quality_secondary[i] = comments[\"Q3\"][k2_loc]\n",
    "        \n",
    "        # Check whether there's already a literature period in my catalog\n",
    "        # If not, K2 is the dominant period\n",
    "        if pflag[i]==\"-\":\n",
    "            pperiods[i] = use_period\n",
    "            pflag[i] = \"3\"\n",
    "            \n",
    "        # Save the periods to the appropriate arrays and set various flags\n",
    "        pperiods_allk2[i] = use_period\n",
    "        pperiods_onlyk2[i] = use_period\n",
    "        ppower[i] = use_power\n",
    "        pthreshold[i] = k2_threshold[k2_loc]\n",
    "#         pbad[i] = c5_flag[c5_loc]\n",
    "        \n",
    "#         # If there is definitely a second period or blended neighbor,\n",
    "#         # flag as a candidate binary\n",
    "#         if ((k2_multi[k2_loc]==\"y\") or (k2_multi[k2_loc]==\"Y\") \n",
    "# #            or (k2_blend[k2_loc]==\"Y\") or (k2_blend[c5_loc]==\"y\")\n",
    "#            ):\n",
    "#             pblend[i] = 1\n",
    "        \n",
    "        # Reset quality flag based on number of peaks in the light curve\n",
    "        epic_peaks = np.where(cat_epic==peaks[\"EPIC\"])[0]\n",
    "        if len(epic_peaks)>0:\n",
    "            epic_heights = peaks[\"power\"][epic_peaks]\n",
    "            pbad[i] = len(np.where(epic_heights>(res[\"fund_power\"][k2_loc]*0.6))[0])\n",
    "            if pbad[i]>0:\n",
    "                pbad[i] -= 1\n",
    "#             print(c5_flag[c5_loc],pbad[i])\n",
    "\n",
    "        #print(c5_harm[c5_loc],pharm[i])\n",
    "        pharm[i] = k2_harm[k2_loc][0]\n",
    "        \n",
    "print(len(np.where(pperiods_secondary>0)[0]),\"with secondary periods\")\n",
    "# print(len(np.where(pblend>0)[0]),\"blend/multi\")\n",
    "pblend = np.zeros(len(hdat),int)"
   ]
  },
  {
   "cell_type": "code",
   "execution_count": 14,
   "metadata": {},
   "outputs": [
    {
     "name": "stdout",
     "output_type": "stream",
     "text": [
      "187 C13 targets\n",
      "116 K2 stars with periods\n"
     ]
    }
   ],
   "source": [
    "c13 = potential_new#np.where((pdat[\"K2_TARGET\"]>0))[0]\n",
    "print(len(c13),\"C13 targets\")\n",
    "print(len(np.where((pperiods_onlyk2>0) & (pqual<2) & (pqual>=0))[0]),\"K2 stars with periods\")"
   ]
  },
  {
   "cell_type": "code",
   "execution_count": 15,
   "metadata": {},
   "outputs": [
    {
     "name": "stdout",
     "output_type": "stream",
     "text": [
      "93  new K2 periods\n",
      "74  high quality new K2 periods\n",
      "14  low quality new K2 periods as flagged by me\n",
      "5  low quality new K2 periods from not-clean periodograms (but I flagged them good)\n",
      "3  low quality new K2 periods as flagged by me AND the periodograms\n",
      "\n",
      "0  with no K2 detection 0.0 %\n",
      "3 alternate count of no detections\n",
      "\n",
      "I removed 12 6.4171122994652405 % leaving 175\n",
      "Originally 187 remove 0 and 12 leave 175 \n",
      "\n",
      "No period for 59 31.550802139037433 % leaving 128\n",
      "There are 59 non-detections unaccounted for\n",
      "[ 96 120 132 133 134 150 154 155 156 174 175 184 203 205 268 278 282 284\n",
      " 286 287 294 295 300 302 304 305 307 309 310 311 312 319 320 321 327 328\n",
      " 331 344 347 348 353 364 370 371 372 373 376 379 387 393 400 732 737 760\n",
      " 774]\n"
     ]
    }
   ],
   "source": [
    "# Counting - directly adapted from C5, possibly not the right numbers\n",
    "# New Periods\n",
    "new_k2 = np.where((pperiods_onlyk2>0) & (hdat[\"PERIOD\"]<0) & (pqual<2) & (pqual>=0))[0]\n",
    "print(len(new_k2), \" new K2 periods\")\n",
    "quality_k2 = np.where((pperiods_onlyk2>0) & (hdat[\"PERIOD\"]<0) & (pqual==0) & (pbad==0))[0]\n",
    "print(len(quality_k2), \" high quality new K2 periods\")\n",
    "low_quality_k2 = np.where((pperiods_onlyk2>0) & (hdat[\"PERIOD\"]<0) & (pqual==1))[0]\n",
    "print(len(low_quality_k2), \" low quality new K2 periods as flagged by me\")\n",
    "low_quality_k2 = np.where((pperiods_onlyk2>0) & (hdat[\"PERIOD\"]<0) & (pqual==0) & (pbad>0))[0]\n",
    "print(len(low_quality_k2), \" low quality new K2 periods from not-clean periodograms (but I flagged them good)\")\n",
    "low_quality_k2 = np.where((pperiods_onlyk2>0) & (hdat[\"PERIOD\"]<0) & (pqual==1) & (pbad>0))[0]\n",
    "print(len(low_quality_k2), \" low quality new K2 periods as flagged by me AND the periodograms\\n\")\n",
    "\n",
    "# Non-detections\n",
    "print(bad_count,\" with no K2 detection\",bad_count*100/len(c13),\"%\")\n",
    "print(len(np.where(pqual==3)[0]),\"alternate count of no detections\\n\")\n",
    "\n",
    "# Ones I flagged as bad\n",
    "bad_flag_count = len(np.where((pqual==2))[0])\n",
    "print(\"I removed\",bad_flag_count,bad_flag_count*100/len(c13),\"% leaving\",len(c13)-bad_count-bad_flag_count)\n",
    "\n",
    "# Totals\n",
    "print(\"Originally\",len(c13),\"remove\", bad_count, \"and\", bad_flag_count, \"leave\", len(c13)-bad_count-bad_flag_count,\"\\n\")\n",
    "\n",
    "\n",
    "# Where there is no C13 period available\n",
    "bad_flag_count = len(np.intersect1d(c13,np.where((pperiods_onlyk2<0))[0]))\n",
    "print(\"No period for\",bad_flag_count,bad_flag_count*100/len(c13),\"% leaving\",len(c13)-bad_count-bad_flag_count)\n",
    "\n",
    "print(\"There are\",bad_flag_count-bad_count,\"non-detections unaccounted for\")\n",
    "\n",
    "print(np.intersect1d(c13,np.where((pperiods_onlyk2<0) & ((pqual==1) | pqual==0))[0]))"
   ]
  },
  {
   "cell_type": "markdown",
   "metadata": {},
   "source": [
    "# A few definitions"
   ]
  },
  {
   "cell_type": "code",
   "execution_count": 16,
   "metadata": {},
   "outputs": [],
   "source": [
    "poster_figure = (12,7)\n",
    "talk_figure = (10,6.5)\n",
    "single_figure = (8,8)\n",
    "double_figure = (13,6)\n",
    "double_stacked = (6,13)\n",
    "triple_stacked = (6,14)\n",
    "quad_square = (13,10)\n",
    "proposal_figure = (10,5.5)\n",
    "\n",
    "std_ms = 8\n",
    "std_mew = 1.25"
   ]
  },
  {
   "cell_type": "code",
   "execution_count": 17,
   "metadata": {},
   "outputs": [],
   "source": [
    "# cmap = plt.cm.viridis\n",
    "# old_color = plt.cm.Greys(0.5)\n",
    "# k2_color = \"Crimson\"\n",
    "\n",
    "cmap = colors.ListedColormap(palettable.colorbrewer.qualitative.Dark2_6.mpl_colors)\n",
    "cmap_qual = palettable.colorbrewer.qualitative.Dark2_7.mpl_colors\n",
    "old_color = plt.cm.Greys(0.4)\n",
    "k2_color = cmap_qual[1]\n",
    "# matt_color = cmap_qual[3]\n",
    "# brown_color = cmap_qual[2]\n",
    "# print(brown_color)"
   ]
  },
  {
   "cell_type": "markdown",
   "metadata": {},
   "source": [
    "# Now match the new Halpha data"
   ]
  },
  {
   "cell_type": "code",
   "execution_count": 18,
   "metadata": {},
   "outputs": [
    {
     "data": {
      "text/plain": [
       "dtype([('filename', '<U70'), ('eqw_med', '<f8'), ('eqw16', '<f8'), ('eqw84', '<f8'), ('HYADES_IDX', '<i8'), ('MDM_NO', '<i8')])"
      ]
     },
     "execution_count": 18,
     "metadata": {},
     "output_type": "execute_result"
    }
   ],
   "source": [
    "eqws = Table(at.read(\"halpha_equivalent_widths_matched.csv\",delimiter=\",\"))\n",
    "eqws.dtype"
   ]
  },
  {
   "cell_type": "code",
   "execution_count": 19,
   "metadata": {},
   "outputs": [
    {
     "name": "stdout",
     "output_type": "stream",
     "text": [
      "trim.04145191+1303178.1_update.fits\n",
      "trim.04145191+1303178.2_update.fits\n",
      "trim.04322373+1745026.1_update.fits\n",
      "trim.04322373+1745026.2_update.fits\n",
      "trim.EP210640966.1_update.fits\n",
      "trim.EP210640966.2_update.fits\n",
      "trim.EP210643507.1_update.fits\n",
      "trim.EP210643507.2_update.fits\n",
      "trim.EP210700098.1_update.fits\n",
      "trim.EP210700098.2_update.fits\n",
      "trim.EP210718930.1_update.fits\n",
      "trim.EP210718930.2_update.fits\n",
      "trim.EP210718930.3_update.fits\n",
      "trim.EP210736105.1_update.fits\n",
      "trim.EP210736105.2_update.fits\n",
      "trim.EP210742592.1_update.fits\n",
      "trim.EP210742592.2_update.fits\n",
      "trim.EP210744677.1_update.fits\n",
      "trim.EP210744677.2_update.fits\n",
      "trim.EP210774807.1_update.fits\n",
      "trim.EP210774807.2_update.fits\n",
      "trim.EP210963067A.1_update.fits\n",
      "trim.EP210963067A.2_update.fits\n",
      "trim.EP210963067A.3_update.fits\n",
      "trim.EP210963067B_update.fits\n",
      "trim.EP211169647.2_update.fits\n"
     ]
    }
   ],
   "source": [
    "# Filter out individual exposures\n",
    "drop_rows = []\n",
    "for i, row in enumerate(eqws):\n",
    "    if (((\".1\" in row[\"filename\"]) or (\".2\" in row[\"filename\"]) \n",
    "        or (\".3\" in row[\"filename\"]) or (\"B\" in row[\"filename\"])) \n",
    "        and (\"trim\" in row[\"filename\"])):\n",
    "        print(row[\"filename\"].split(\"/\")[-1])\n",
    "        drop_rows.append(i)\n",
    "drop_rows = np.asarray(drop_rows,int)"
   ]
  },
  {
   "cell_type": "code",
   "execution_count": 20,
   "metadata": {},
   "outputs": [],
   "source": [
    "eqws.remove_rows(drop_rows)"
   ]
  },
  {
   "cell_type": "code",
   "execution_count": 21,
   "metadata": {},
   "outputs": [],
   "source": [
    "err_up = abs(eqws[\"eqw_med\"]-eqws[\"eqw16\"])\n",
    "err_dn = abs(eqws[\"eqw_med\"]-eqws[\"eqw84\"])\n",
    "\n",
    "eqws[\"eqw_unc\"] = (err_up + err_dn)/2"
   ]
  },
  {
   "cell_type": "code",
   "execution_count": 22,
   "metadata": {},
   "outputs": [],
   "source": [
    "old1 = (eqws[\"HYADES_IDX\"]>0) & (eqws[\"MDM_NO\"]==1)\n",
    "old_e1 = np.where(old1)[0]\n",
    "old_i1 = eqws[\"HYADES_IDX\"][old1]\n",
    "\n",
    "old2 = (eqws[\"HYADES_IDX\"]>0) & (eqws[\"MDM_NO\"]==2)\n",
    "old_e2 = np.where(old2)[0]\n",
    "old_i2 = eqws[\"HYADES_IDX\"][old2]"
   ]
  },
  {
   "cell_type": "code",
   "execution_count": 23,
   "metadata": {},
   "outputs": [
    {
     "data": {
      "text/plain": [
       "<matplotlib.lines.Line2D at 0xb235b5ba8>"
      ]
     },
     "execution_count": 23,
     "metadata": {},
     "output_type": "execute_result"
    },
    {
     "data": {
      "image/png": "[encoded data removed]",
      "text/plain": [
       "<matplotlib.figure.Figure at 0xb23555978>"
      ]
     },
     "metadata": {},
     "output_type": "display_data"
    }
   ],
   "source": [
    "plt.figure(figsize=single_figure)\n",
    "ax = plt.subplot(111)\n",
    "\n",
    "ax.errorbar(hdat[\"MDM_EQW\"][old_i1]*-1,eqws[\"eqw_med\"][old_e1],\n",
    "            xerr=eqws[\"eqw_unc\"][old_e1],yerr=hdat[\"MDM_EQW_ERR\"][old_i1],\n",
    "           marker=\".\",linewidth=0,elinewidth=1,zorder=-2)\n",
    "\n",
    "\n",
    "ax.errorbar(hdat[\"MDM2_EQW\"][old_i2]*-1,eqws[\"eqw_med\"][old_e2],\n",
    "            xerr=eqws[\"eqw_unc\"][old_e2],yerr=hdat[\"MDM2_EQW_ERR\"][old_i2],\n",
    "           marker=\".\",linewidth=0,elinewidth=1,zorder=-1)\n",
    "\n",
    "x = np.linspace(-10,6)\n",
    "ax.plot(x,x)\n",
    "\n",
    "ax.set_ylim(4,-10)\n",
    "ax.set_xlim(4,-10)\n",
    "\n",
    "ax.set_xlabel(\"EqW (Douglas+2014)\")\n",
    "ax.set_ylabel(\"EqW (This Work)\")\n",
    "\n",
    "ax.axhline(0,color=\"C3\",linestyle=\":\")\n",
    "ax.axvline(0,color=\"C3\",linestyle=\":\")"
   ]
  },
  {
   "cell_type": "code",
   "execution_count": 24,
   "metadata": {},
   "outputs": [
    {
     "data": {
      "text/plain": [
       "Text(0,0.5,'Halpha EqW')"
      ]
     },
     "execution_count": 24,
     "metadata": {},
     "output_type": "execute_result"
    },
    {
     "data": {
      "image/png": "[encoded data removed]",
      "text/plain": [
       "<matplotlib.figure.Figure at 0xb237697f0>"
      ]
     },
     "metadata": {},
     "output_type": "display_data"
    }
   ],
   "source": [
    "plt.figure(figsize=single_figure)\n",
    "ax = plt.subplot(111)\n",
    "\n",
    "ax.errorbar(hdat[\"RPRIME_K\"][old_i1],\n",
    "            eqws[\"eqw_med\"][old_e1], color=\"C1\",\n",
    "            yerr=eqws[\"eqw_unc\"][old_e1],\n",
    "           marker=\"D\",linewidth=0,elinewidth=1,zorder=-1,\n",
    "           label=\"Hyades (In D14)\")\n",
    "\n",
    "ax.errorbar(hdat[\"RPRIME_K\"][eqws[\"HYADES_IDX\"]],\n",
    "            eqws[\"eqw_med\"], color=\"C1\",\n",
    "            yerr=eqws[\"eqw_unc\"], mfc=\"none\", mew=1.5,\n",
    "           marker=\"D\",linewidth=0,elinewidth=1,zorder=-1,\n",
    "           label=\"Hyades (New)\")\n",
    "\n",
    "ax.set_xlim(0.25,6.5)\n",
    "ax.set_ylim(3,-15.5)\n",
    "\n",
    "ax.legend(loc=2)\n",
    "\n",
    "ax.set_xlabel(\"(r'-K)\")\n",
    "ax.set_ylabel(\"Halpha EqW\")"
   ]
  },
  {
   "cell_type": "code",
   "execution_count": 25,
   "metadata": {},
   "outputs": [
    {
     "data": {
      "text/plain": [
       "Text(0,0.5,'Halpha EqW')"
      ]
     },
     "execution_count": 25,
     "metadata": {},
     "output_type": "execute_result"
    },
    {
     "data": {
      "image/png": "[encoded data removed]",
      "text/plain": [
       "<matplotlib.figure.Figure at 0xb239302e8>"
      ]
     },
     "metadata": {},
     "output_type": "display_data"
    }
   ],
   "source": [
    "plt.figure(figsize=single_figure)\n",
    "ax = plt.subplot(111)\n",
    "\n",
    "goodp = pdat[\"AVG_EQW\"]>0\n",
    "ax.errorbar(pdat[\"RPRIME_K\"][goodp],pdat[\"AVG_EQW\"][goodp]*-1,\n",
    "            pdat[\"AVG_EQW_ERR\"][goodp],alpha=0.2,\n",
    "           marker=\"o\",linewidth=0,elinewidth=1,zorder=-2,\n",
    "           label=\"Praesepe (D14)\")\n",
    "\n",
    "ax.errorbar(hdat[\"RPRIME_K\"][eqws[\"HYADES_IDX\"]],\n",
    "            eqws[\"eqw_med\"], color=\"C1\",\n",
    "            yerr=eqws[\"eqw_unc\"], \n",
    "           marker=\"D\",linewidth=0,elinewidth=1,zorder=-1,\n",
    "           label=\"Hyades (This Work)\")\n",
    "\n",
    "ax.set_xlim(0.25,6.5)\n",
    "ax.set_ylim(3,-15.5)\n",
    "\n",
    "ax.legend(loc=2)\n",
    "\n",
    "ax.set_xlabel(\"(r'-K)\")\n",
    "ax.set_ylabel(\"Halpha EqW\")"
   ]
  },
  {
   "cell_type": "code",
   "execution_count": 30,
   "metadata": {},
   "outputs": [
    {
     "name": "stdout",
     "output_type": "stream",
     "text": [
      "[187]\n",
      "                          filename                          ...\n",
      "----------------------------------------------------------- ...\n",
      "/pool/cfsi04_0/data/MDM_Hyades/trim.EP210497173_update.fits ...\n"
     ]
    }
   ],
   "source": [
    "ei = np.where((hdat[\"RPRIME_K\"][eqws[\"HYADES_IDX\"]]>4.5) & \n",
    "              (eqws[\"eqw_med\"]>0))[0]\n",
    "print(ei)\n",
    "print(eqws[ei])"
   ]
  },
  {
   "cell_type": "code",
   "execution_count": null,
   "metadata": {
    "collapsed": true
   },
   "outputs": [],
   "source": []
  }
 ],
 "metadata": {
  "kernelspec": {
   "display_name": "Python 3",
   "language": "python",
   "name": "python3"
  },
  "language_info": {
   "codemirror_mode": {
    "name": "ipython",
    "version": 3
   },
   "file_extension": ".py",
   "mimetype": "text/x-python",
   "name": "python",
   "nbconvert_exporter": "python",
   "pygments_lexer": "ipython3",
   "version": "3.6.6"
  }
 },
 "nbformat": 4,
 "nbformat_minor": 1
}
