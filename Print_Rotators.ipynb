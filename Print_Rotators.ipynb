{
 "cells": [
  {
   "cell_type": "code",
   "execution_count": 1,
   "metadata": {
    "collapsed": true
   },
   "outputs": [],
   "source": [
    "from __future__ import division, print_function, absolute_import\n",
    "\n",
    "%matplotlib inline\n",
    "\n",
    "import os\n",
    "\n",
    "import matplotlib.pyplot as plt\n",
    "import astropy.io.ascii as at\n",
    "from astropy.coordinates import SkyCoord\n",
    "import astropy.units as u\n",
    "from astropy.table import Table\n",
    "import numpy as np\n",
    "\n",
    "from hypra.utils import cat_io\n",
    "\n",
    "home_dir = os.getenv(\"HOME\")"
   ]
  },
  {
   "cell_type": "code",
   "execution_count": 2,
   "metadata": {
    "collapsed": true
   },
   "outputs": [],
   "source": [
    "hdat, _, _, _ = cat_io.get_data(\"H\")\n",
    "hpos = SkyCoord(hdat[\"RA\"],hdat[\"DEC\"],unit=u.degree)"
   ]
  },
  {
   "cell_type": "code",
   "execution_count": 3,
   "metadata": {
    "collapsed": false
   },
   "outputs": [],
   "source": [
    "rotators = np.where((hdat[\"PERIOD\"]>0))[0]"
   ]
  },
  {
   "cell_type": "code",
   "execution_count": 4,
   "metadata": {
    "collapsed": true
   },
   "outputs": [],
   "source": [
    "c13file = os.path.join(home_dir,\"HyPra/catalogs/K2Campaign13targets_ours.csv\")\n",
    "c13 = at.read(c13file)"
   ]
  },
  {
   "cell_type": "code",
   "execution_count": 5,
   "metadata": {
    "collapsed": false
   },
   "outputs": [
    {
     "name": "stdout",
     "output_type": "stream",
     "text": [
      "[('EPIC ID', '<i8'), ('RA (J2000) [deg]', '<f8'), ('Dec (J2000) [deg]', '<f8'), ('magnitude', '<f8'), ('Investigation IDs', 'S153')]\n"
     ]
    }
   ],
   "source": [
    "print(c13.dtype)"
   ]
  },
  {
   "cell_type": "code",
   "execution_count": 6,
   "metadata": {
    "collapsed": false
   },
   "outputs": [],
   "source": [
    "c13pos = SkyCoord(c13[\"RA (J2000) [deg]\"],c13[\"Dec (J2000) [deg]\"],unit=u.degree)"
   ]
  },
  {
   "cell_type": "code",
   "execution_count": 7,
   "metadata": {
    "collapsed": true
   },
   "outputs": [],
   "source": [
    "idx,sep,_ = c13pos.match_to_catalog_sky(hpos)"
   ]
  },
  {
   "cell_type": "code",
   "execution_count": 8,
   "metadata": {
    "collapsed": true
   },
   "outputs": [],
   "source": [
    "good_match = np.where(sep<(5*u.arcsec))[0]\n",
    "\n",
    "good_idx = idx[good_match]"
   ]
  },
  {
   "cell_type": "code",
   "execution_count": 9,
   "metadata": {
    "collapsed": false
   },
   "outputs": [
    {
     "name": "stdout",
     "output_type": "stream",
     "text": [
      "[    -9999     -9999     -9999     -9999     -9999     -9999     -9999\n",
      " 210640966 210651981     -9999     -9999 210667985 210674207 210709514\n",
      " 210718930     -9999     -9999 210741091 210742017 210743724 210754620\n",
      "     -9999     -9999     -9999     -9999     -9999     -9999     -9999\n",
      "     -9999     -9999     -9999     -9999     -9999     -9999     -9999\n",
      "     -9999     -9999     -9999     -9999     -9999     -9999     -9999\n",
      "     -9999     -9999     -9999     -9999     -9999     -9999     -9999\n",
      "     -9999     -9999     -9999     -9999     -9999     -9999     -9999\n",
      "     -9999     -9999     -9999     -9999     -9999     -9999     -9999\n",
      "     -9999     -9999     -9999     -9999     -9999     -9999     -9999\n",
      "     -9999     -9999     -9999     -9999     -9999     -9999     -9999\n",
      "     -9999     -9999     -9999     -9999     -9999     -9999     -9999\n",
      "     -9999     -9999     -9999     -9999     -9999     -9999     -9999\n",
      "     -9999     -9999     -9999     -9999     -9999     -9999     -9999\n",
      "     -9999     -9999     -9999     -9999     -9999     -9999     -9999\n",
      "     -9999     -9999     -9999     -9999     -9999     -9999     -9999\n",
      "     -9999     -9999     -9999     -9999     -9999     -9999     -9999\n",
      "     -9999     -9999     -9999     -9999     -9999     -9999     -9999\n",
      "     -9999     -9999     -9999     -9999     -9999     -9999]\n"
     ]
    }
   ],
   "source": [
    "print(hdat[\"EPIC_ID\"][good_idx])"
   ]
  },
  {
   "cell_type": "code",
   "execution_count": 10,
   "metadata": {
    "collapsed": true
   },
   "outputs": [],
   "source": [
    "np.union1d?"
   ]
  },
  {
   "cell_type": "code",
   "execution_count": 13,
   "metadata": {
    "collapsed": false
   },
   "outputs": [
    {
     "name": "stdout",
     "output_type": "stream",
     "text": [
      "156\n"
     ]
    }
   ],
   "source": [
    "of_interest_all = np.union1d(rotators,good_idx)\n",
    "\n",
    "bright_only = np.where(hdat[\"KH_MASS\"]>0.3)[0]\n",
    "\n",
    "of_interest = np.intersect1d(of_interest_all,bright_only)\n",
    "\n",
    "print(len(of_interest))"
   ]
  },
  {
   "cell_type": "code",
   "execution_count": 18,
   "metadata": {
    "collapsed": false
   },
   "outputs": [
    {
     "name": "stdout",
     "output_type": "stream",
     "text": [
      "('RA', 'DEC', 'ASAS_ID', 'HIP_ID', 'KUNDERT_MATCH', 'KUNDERT_RA', 'KUNDERT_DEC', 'KUNDERT_PROT', 'KUNDERT_OBS', 'KUNDERT_SPT', 'ROESER_MATCH', 'ROESER_PMRA', 'ROESER_PMRA_ERR', 'ROESER_PMDEC', 'ROESER_PMDEC_ERR', 'ROESER_PARALLAX', 'ROESER_PARALLAX_ERR', 'ROESER_DISTANCE', 'ROESER_RV', 'ROESER_VPAR', 'ROESER_VPAR_ERR', 'ROESER_VPER', 'ROESER_VPER_ERR', 'ROESER_MASS', 'TWOMASSNAME', 'TWOMASS_RA', 'TWOMASS_DEC', 'TWOMASS_J', 'TWOMASS_JERR', 'TWOMASS_H', 'TWOMASS_HERR', 'TWOMASS_K', 'TWOMASS_KERR', 'TWOMASS_FLAG', 'TWOMASS_PHOT_FLAG', 'TWOMASS_SEP_OPT', 'TWOMASS_B', 'TWOMASS_VR', 'DELORME_MATCH', 'SWASP_ID', 'USNO_ID', 'DELORME_RA', 'DELORME_DEC', 'DELORME_XRAY', 'DELORME_V', 'DELORME_PREV_SPT', 'DELORME_PMEM', 'DELORME_LITP', 'DELORME_DELTACORE', 'DELORME_PARALLAX', 'DELORME_DISTANCE', 'ANYPERIOD', 'UCAC_MATCH', 'UCAC_RA', 'UCAC_DEC', 'UCAC_ID', 'UCAC_FLAG', 'UCAC_DBLSTAR', 'UCAC_PMRA', 'UCAC_PMDEC', 'UCAC_J', 'UCAC_JERR', 'UCAC_H', 'UCAC_HERR', 'UCAC_K', 'UCAC_KERR', 'UCAC_B', 'UCAC_BERR', 'UCAC_V', 'UCAC_VERR', 'UCAC_G', 'UCAC_GERR', 'UCAC_R', 'UCAC_RERR', 'UCAC_I', 'UCAC_IERR', 'SDSS_MATCH', 'SDSS_RA', 'SDSS_DEC', 'SDSS_Q', 'SDSS_U', 'SDSS_UERR', 'SDSS_G', 'SDSS_GERR', 'SDSS_R', 'SDSS_RERR', 'SDSS_I', 'SDSS_IERR', 'SDSS_Z', 'SDSS_ZERR', 'MDM_SPECMATCH', 'MDM_SPEC_FILE', 'MDM_SPEC_FILE2', 'MDM_SPEC_RA', 'MDM_SPEC_DEC', 'MDM_SPEC_ADAMSPT', 'MDM_SPEC_SPT', 'HIP_PARALLAX', 'HIP_PAR_ERR', 'HIP_DISTANCE', 'HIP_DMOD', 'RMAG', 'RMAG_ERR', 'RMAG_FLAG', 'KH_MASS', 'RPRIME', 'RPRIME_ERR', 'RPRIME_K', 'RPRIME_K_ERR', 'BINARY', 'MDM_EQW', 'MDM_EQW_ERR', 'MDM_LHALBOL', 'MDM_LLERR', 'MDM2_EQW', 'MDM2_EQW_ERR', 'MDM2_LHALBOL', 'MDM2_LLERR', 'CHI', 'CHI_ERR', 'AVG_EQW', 'AVG_EQW_ERR', 'AVG_LHA', 'AVG_LHA_ERR', 'ROESER_PMEM', 'ROSSBY', 'PERIOD', 'PERIOD_FLAG', 'GOLDMAN_MATCH', 'GOLDMAN_SEQ', 'GOLDMAN_RAJ2000', 'GOLDMAN_DEJ2000', 'GOLDMAN_PMRA', 'GOLDMAN_E_PMRA', 'GOLDMAN_PMDE', 'GOLDMAN_E_PMDE', 'GOLDMAN_PLX', 'GOLDMAN_E_PLX', 'GOLDMAN_RC', 'GOLDMAN_RV', 'GOLDMAN_VPAR', 'GOLDMAN_VPERP', 'GOLDMAN_M', 'GOLDMAN_GMED', 'GOLDMAN_E_GMED', 'GOLDMAN_RMED', 'GOLDMAN_E_RMED', 'GOLDMAN_IMED', 'GOLDMAN_E_IMED', 'GOLDMAN_ZMED', 'GOLDMAN_E_ZMED', 'GOLDMAN_YMED', 'GOLDMAN_GMAG', 'GOLDMAN_E_GMAG', 'GOLDMAN_RMAG', 'GOLDMAN_E_RMAG', 'GOLDMAN_IMAG', 'GOLDMAN_E_IMAG', 'GOLDMAN_ZMAG', 'GOLDMAN_E_ZMAG', 'GOLDMAN_JMAG', 'GOLDMAN_E_JMAG', 'GOLDMAN_HMAG', 'GOLDMAN_E_HMAG', 'GOLDMAN_KMAG', 'GOLDMAN_E_KMAG', 'GOLDMAN_W1MAG', 'GOLDMAN_E_W1MAG', 'GOLDMAN_W2MAG', 'GOLDMAN_E_W2MAG', 'GOLDMAN_W3MAG', 'GOLDMAN_E_W3MAG', 'GOLDMAN_W4MAG', 'GOLDMAN_E_W4MAG', 'GOLDMAN_SRC', 'DISTANCE', 'DISTANCE_ERR', 'DISTANCE_FLAG', 'PROSSER_PERIOD', 'HARTMAN_PERIOD', 'K2_TARGET', 'K2FOV_FLAG13', 'EPIC_ID', 'PMEM', 'K2_PERIOD')\n"
     ]
    }
   ],
   "source": [
    "htab = Table(hdat)\n",
    "print(htab.dtype.names)"
   ]
  },
  {
   "cell_type": "code",
   "execution_count": 19,
   "metadata": {
    "collapsed": false
   },
   "outputs": [
    {
     "name": "stdout",
     "output_type": "stream",
     "text": [
      "['04:27:35.8275' '04:20:12.8958' '04:26:05.8601' '04:27:46.0091'\n",
      " '04:37:31.9292' '04:24:12.398' '04:50:33.7629' '04:24:28.2573'\n",
      " '04:28:48.232' '04:06:16.0557']\n",
      "['+15:35:21.2976' '+19:14:00.8255' '+15:31:27.5999' '+11:44:11.2183'\n",
      " '+15:08:47.3927' '+14:45:29.8391' '+15:05:00.6133' '+16:53:10.4147'\n",
      " '+17:17:07.9346' '+15:41:53.4044']\n"
     ]
    }
   ],
   "source": [
    "ra_str = np.zeros(len(hdat),\"S15\")\n",
    "dec_str = np.zeros(len(hdat),\"S15\")\n",
    "\n",
    "for i in of_interest:\n",
    "    skypos = hpos[i].to_string(\"hmsdms\",sep=\":\")\n",
    "    ra_str[i], dec_str[i] = skypos.split()\n",
    "print(ra_str[of_interest][:10])\n",
    "print(dec_str[of_interest][:10])"
   ]
  },
  {
   "cell_type": "code",
   "execution_count": 20,
   "metadata": {
    "collapsed": false
   },
   "outputs": [],
   "source": [
    "hprint = htab[\"RA\",\"DEC\",\"PERIOD\"]\n",
    "hprint[\"IDX\"] = np.arange(len(hdat),dtype=\"int\")\n",
    "hprint[\"RA_HMS\"] = ra_str\n",
    "hprint[\"DEC_DMS\"] = dec_str"
   ]
  },
  {
   "cell_type": "code",
   "execution_count": 21,
   "metadata": {
    "collapsed": false
   },
   "outputs": [],
   "source": [
    "formats = {\"RA\":\"%.6f\",\"DEC\":\"%.6f\",\"PERIOD\":\"%.2f\"}\n",
    "at.write(hprint[\"IDX\",\"RA\",\"DEC\",\"RA_HMS\",\"DEC_DMS\",\"PERIOD\"][of_interest],\n",
    "         \"hyades_rotators_and_C13targets2.csv\",delimiter=\",\",\n",
    "         formats=formats,overwrite=True)"
   ]
  },
  {
   "cell_type": "code",
   "execution_count": null,
   "metadata": {
    "collapsed": true
   },
   "outputs": [],
   "source": []
  }
 ],
 "metadata": {
  "kernelspec": {
   "display_name": "Python 2",
   "language": "python",
   "name": "python2"
  },
  "language_info": {
   "codemirror_mode": {
    "name": "ipython",
    "version": 2
   },
   "file_extension": ".py",
   "mimetype": "text/x-python",
   "name": "python",
   "nbconvert_exporter": "python",
   "pygments_lexer": "ipython2",
   "version": "2.7.13"
  }
 },
 "nbformat": 4,
 "nbformat_minor": 0
}
